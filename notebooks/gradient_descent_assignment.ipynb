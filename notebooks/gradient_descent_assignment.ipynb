{
 "cells": [
  {
   "cell_type": "markdown",
   "metadata": {},
   "source": [
    "#### Gradient Descent\n",
    "\n",
    "Jay Urbain\n",
    "3/17/2017"
   ]
  },
  {
   "cell_type": "markdown",
   "metadata": {},
   "source": [
    "[Gradient descent](https://en.wikipedia.org/wiki/Gradient_descent) is an optimization algorithm used to find the local minimum of a function. It is commonly used in many different machine learning algorithms. \n",
    "\n",
    "Complete the code for the following functions below:   \n",
    "- dLdw1() # partial derivative with respect to w1\n",
    "- dLdw0() # partial derivative with respect to w0\n",
    "- f() # linear regression prediction function\n",
    "- cost() # cost function   \n",
    "\n",
    "Note: plots"
   ]
  },
  {
   "cell_type": "code",
   "execution_count": 209,
   "metadata": {
    "collapsed": false
   },
   "outputs": [],
   "source": [
    "# loading necessary libraries and setting up plotting libraries\n",
    "import numpy as np\n",
    "import pandas as pd\n",
    "import matplotlib.pyplot as plt\n",
    "\n",
    "# generate plots within notebook\n",
    "%matplotlib inline"
   ]
  },
  {
   "cell_type": "code",
   "execution_count": 210,
   "metadata": {
    "collapsed": false
   },
   "outputs": [
    {
     "name": "stdout",
     "output_type": "stream",
     "text": [
      "(97, 2)\n",
      "        X        Y\n",
      "0  6.1101  17.5920\n",
      "1  5.5277   9.1302\n",
      "2  8.5186  13.6620\n",
      "3  7.0032  11.8540\n",
      "4  5.8598   6.8233\n",
      "<class 'numpy.ndarray'>\n",
      "(97,)\n",
      "97\n",
      "[ 6.1101  5.5277  8.5186  7.0032  5.8598]\n",
      "[ 17.592    9.1302  13.662   11.854    6.8233]\n"
     ]
    }
   ],
   "source": [
    "# Read dataset into a Pandas dataframe\n",
    "# You'll need to change the 'f' path\n",
    "f = \"/Users/jayurbain/Dropbox/machine-learning/machine-learning/notebooks/ex1data1.txt\"\n",
    "df = pd.read_csv(f, header=None, names=[\"X\",\"Y\"])\n",
    "\n",
    "# verify\n",
    "print(df.shape)\n",
    "print(df.head())\n",
    "\n",
    "# Convert pandas columns for X, Y into numpy arrays for processing\n",
    "X=df.iloc[:,0].values\n",
    "Y=df.iloc[:,1].values\n",
    "\n",
    "print(type(X))\n",
    "print(X.shape)\n",
    "print(X.shape[0])\n",
    "print(X[:5])\n",
    "print(Y[:5])"
   ]
  },
  {
   "cell_type": "markdown",
   "metadata": {},
   "source": [
    "#### Algorithm settings"
   ]
  },
  {
   "cell_type": "code",
   "execution_count": 211,
   "metadata": {
    "collapsed": true
   },
   "outputs": [],
   "source": [
    "# default settings, you need to determine optimal convergence settings\n",
    "alpha = 0.01;   # learning rate\n",
    "tol = 1e-11;    # tolerance to determine convergence\n",
    "maxiter = 1000; # maximum number of iterations (in case convergence is not reached)\n",
    "dispiter = 10;   # interval for displaying results during iterations\n",
    "\n",
    "# track interations\n",
    "iters = 0;\n",
    "# parameter initialization\n",
    "w0 = 0;\n",
    "w1 = 0;"
   ]
  },
  {
   "cell_type": "code",
   "execution_count": 212,
   "metadata": {
    "collapsed": false
   },
   "outputs": [
    {
     "data": {
      "text/plain": [
       "[0.0, 0.0, 0.0, 0.0, 0.0]"
      ]
     },
     "execution_count": 212,
     "metadata": {},
     "output_type": "execute_result"
    }
   ],
   "source": [
    "# track results for plotting parameter convergence\n",
    "w0plot = [0.0]*(maxiter+1);\n",
    "w1plot = [0.0]*(maxiter+1);\n",
    "tplot  = [0]*(maxiter+1);\n",
    "cplot  = [0]*(maxiter+1);\n",
    "\n",
    "w0plot[:5]"
   ]
  },
  {
   "cell_type": "markdown",
   "metadata": {},
   "source": [
    "#### Generate initial scatter plot to visualize the data"
   ]
  },
  {
   "cell_type": "code",
   "execution_count": 213,
   "metadata": {
    "collapsed": false
   },
   "outputs": [
    {
     "data": {
      "text/plain": [
       "<matplotlib.collections.PathCollection at 0x11ac59a90>"
      ]
     },
     "execution_count": 213,
     "metadata": {},
     "output_type": "execute_result"
    },
    {
     "data": {
      "image/png": "[encoded data removed]",
      "text/plain": [
       "<matplotlib.figure.Figure at 0x119c28940>"
      ]
     },
     "metadata": {},
     "output_type": "display_data"
    }
   ],
   "source": [
    "plt.scatter(X,Y)"
   ]
  },
  {
   "cell_type": "markdown",
   "metadata": {},
   "source": [
    "#### Generate _nice_ initial scatter plot with labels to visualize the data"
   ]
  },
  {
   "cell_type": "code",
   "execution_count": 214,
   "metadata": {
    "collapsed": false
   },
   "outputs": [
    {
     "data": {
      "text/plain": [
       "<matplotlib.text.Text at 0x11ac95208>"
      ]
     },
     "execution_count": 214,
     "metadata": {},
     "output_type": "execute_result"
    },
    {
     "data": {
      "image/png": "[encoded data removed]",
      "text/plain": [
       "<matplotlib.figure.Figure at 0x11985c588>"
      ]
     },
     "metadata": {},
     "output_type": "display_data"
    }
   ],
   "source": [
    "# Adding labels\n",
    "# Create a Figure object.\n",
    "fig = plt.figure(figsize=(8, 6))\n",
    "# Create an Axes object.\n",
    "ax = fig.add_subplot(1,1,1) # one row, one column, first plot\n",
    "# Plot the data.\n",
    "ax.scatter(X, Y, color=\"red\", marker=\"*\")\n",
    "# Add a title.\n",
    "ax.set_title(\"Data set\")\n",
    "# Add axis labels.\n",
    "ax.set_xlabel(\"X\")\n",
    "ax.set_ylabel(\"Y\")\n",
    "# Produce an image.\n",
    "#fig.savefig(\"scatterplot.png\")"
   ]
  },
  {
   "cell_type": "markdown",
   "metadata": {},
   "source": [
    "#### Functions you need to complete !!!"
   ]
  },
  {
   "cell_type": "code",
   "execution_count": 215,
   "metadata": {
    "collapsed": false
   },
   "outputs": [],
   "source": [
    "# linear regression predictive function\n",
    "def f(x):\n",
    "    ##################### \n",
    "    # fill this in\n",
    "\n",
    "    #####################\n",
    "    \n",
    "# partial derivative of the cost(loss) with respect to w1 (slogpe)\n",
    "def dLdw1():\n",
    "    ##################### \n",
    "    sum = 0\n",
    "    m = X.size\n",
    "\n",
    "    #####################\n",
    "    \n",
    "# partial derivative of the cost(loss) with respect to w0 (slogpe)\n",
    "def dLdw0():\n",
    "    ##################### \n",
    "    # fill this in\n",
    "    sum = 0\n",
    "    m = X.size\n",
    "    \n",
    "\n",
    "    #####################\n",
    "    \n",
    "def cost():\n",
    "    ##################### \n",
    "    # fill this in\n",
    "    sum = 0\n",
    "    m = X.size\n",
    "\n",
    "    #####################"
   ]
  },
  {
   "cell_type": "markdown",
   "metadata": {},
   "source": [
    "#### Main loop of program"
   ]
  },
  {
   "cell_type": "code",
   "execution_count": 216,
   "metadata": {
    "collapsed": false
   },
   "outputs": [
    {
     "name": "stdout",
     "output_type": "stream",
     "text": [
      "10 , w0= -0.0622765770247  delta0= 0.01638886699 w1= 0.798007276352 , delta1= 0.0236386109348\n",
      "20 , w0= -0.197322615548  delta0= 0.0134130242262 w1= 0.821360907109 , delta1= -0.00103493659722\n",
      "30 , w0= -0.328505023372  delta0= 0.0129076309805 w1= 0.834660576898 , delta1= -0.00129284815957\n",
      "40 , w0= -0.455045503593  delta0= 0.0124493976208 w1= 0.847374436052 , delta1= -0.00125062927234\n",
      "50 , w0= -0.577097402956  delta0= 0.0120077803377 w1= 0.859635891701 , delta1= -0.00120631119084\n",
      "60 , w0= -0.694819803329  delta0= 0.0115818328435 w1= 0.871462383961 , delta1= -0.00116352072788\n",
      "70 , w0= -0.808366281658  delta0= 0.0111709948785 w1= 0.88286935933 , delta1= -0.00112224760521\n",
      "80 , w0= -0.917884968821  delta0= 0.0107747304135 w1= 0.893871699385 , delta1= -0.00108243854158\n",
      "90 , w0= -1.02351874113  delta0= 0.0103925224876 w1= 0.904483757603 , delta1= -0.00104404160968\n",
      "100 , w0= -1.12540540669  delta0= 0.0100238724785 w1= 0.914719378305 , delta1= -0.00100700671759\n",
      "110 , w0= -1.2236778852  delta0= 0.00966829945136 w1= 0.924591914715 , delta1= -0.000971285550178\n",
      "120 , w0= -1.31846438134  delta0= 0.00932533953138 w1= 0.934114246385 , delta1= -0.000936831506192\n",
      "130 , w0= -1.40988855206  delta0= 0.00899454529858 w1= 0.943298795995 , delta1= -0.000903599637443\n",
      "140 , w0= -1.49806966784  delta0= 0.00867548520416 w1= 0.952157545559 , delta1= -0.000871546590171\n",
      "150 , w0= -1.58312276833  delta0= 0.00836774300747 w1= 0.960702052059 , delta1= -0.00084063054849\n",
      "160 , w0= -1.66515881245  delta0= 0.00807091723302 w1= 0.968943462521 , delta1= -0.000810811179831\n",
      "170 , w0= -1.74428482309  delta0= 0.0077846206467 w1= 0.976892528555 , delta1= -0.000782049582328\n",
      "180 , w0= -1.82060402675  delta0= 0.00750847975063 w1= 0.984559620384 , delta1= -0.000754308234067\n",
      "190 , w0= -1.89421598825  delta0= 0.00724213429583 w1= 0.991954740372 , delta1= -0.000727550944133\n",
      "200 , w0= -1.96521674055  delta0= 0.00698523681235 w1= 0.999087536073 , delta1= -0.000701742805397\n",
      "210 , w0= -2.03369891009  delta0= 0.00673745215588 w1= 1.00596731282 , delta1= -0.000676850148979\n",
      "220 , w0= -2.0997518376  delta0= 0.00649845707057 w1= 1.01260304585 , delta1= -0.000652840500323\n",
      "230 , w0= -2.16346169467  delta0= 0.00626793976728 w1= 1.01900339204 , delta1= -0.000629682536828\n",
      "240 , w0= -2.22491159613  delta0= 0.00604559951687 w1= 1.02517670118 , delta1= -0.00060734604699\n",
      "250 , w0= -2.28418170854  delta0= 0.00583114625785 w1= 1.03113102686 , delta1= -0.000585801890986\n",
      "260 , w0= -2.34134935473  delta0= 0.00562430021796 w1= 1.03687413701 , delta1= -0.000565021962658\n",
      "270 , w0= -2.39648911469  delta0= 0.0054247915492 w1= 1.04241352399 , delta1= -0.000544979152847\n",
      "280 , w0= -2.44967292285  delta0= 0.00523235997579 w1= 1.04775641439 , delta1= -0.000525647314027\n",
      "290 , w0= -2.50097016196  delta0= 0.00504675445461 w1= 1.05290977847 , delta1= -0.000507001226195\n",
      "300 , w0= -2.55044775355  delta0= 0.0048677328477 w1= 1.05788033922 , delta1= -0.000489016563966\n",
      "310 , w0= -2.5981702453  delta0= 0.00469506160636 w1= 1.06267458116 , delta1= -0.000471669864839\n",
      "320 , w0= -2.6441998952  delta0= 0.00452851546648 w1= 1.06729875876 , delta1= -0.000454938498593\n",
      "330 , w0= -2.68859675278  delta0= 0.00436787715466 w1= 1.07175890467 , delta1= -0.000438800637756\n",
      "340 , w0= -2.73141873747  delta0= 0.00421293710476 w1= 1.07606083752 , delta1= -0.000423235229137\n",
      "350 , w0= -2.77272171414  delta0= 0.00406349318449 w1= 1.08021016953 , delta1= -0.000408221966355\n",
      "360 , w0= -2.81255956598  delta0= 0.00391935043174 w1= 1.08421231386 , delta1= -0.00039374126335\n",
      "370 , w0= -2.85098426481  delta0= 0.00378032080019 w1= 1.08807249164 , delta1= -0.000379774228832\n",
      "380 , w0= -2.88804593887  delta0= 0.00364622291403 w1= 1.0917957388 , delta1= -0.000366302641633\n",
      "390 , w0= -2.92379293822  delta0= 0.00351688183134 w1= 1.09538691263 , delta1= -0.000353308926937\n",
      "400 , w0= -2.95827189781  delta0= 0.00339212881583 w1= 1.09885069811 , delta1= -0.000340776133355\n",
      "410 , w0= -2.99152779835  delta0= 0.00327180111672 w1= 1.10219161404 , delta1= -0.000328687910807\n",
      "420 , w0= -3.02360402494  delta0= 0.00315574175646 w1= 1.10541401892 , delta1= -0.000317028489194\n",
      "430 , w0= -3.05454242371  delta0= 0.00304379932586 w1= 1.10852211666 , delta1= -0.000305782657822\n",
      "440 , w0= -3.08438335639  delta0= 0.00293582778666 w1= 1.11151996203 , delta1= -0.000294935745561\n",
      "450 , w0= -3.11316575298  delta0= 0.00283168628092 w1= 1.11441146597 , delta1= -0.000284473601706\n",
      "460 , w0= -3.14092716254  delta0= 0.00273123894733 w1= 1.11720040068 , delta1= -0.000274382577512\n",
      "470 , w0= -3.16770380214  delta0= 0.0026343547439 w1= 1.11989040457 , delta1= -0.000264649508393\n",
      "480 , w0= -3.19353060416  delta0= 0.00254090727708 w1= 1.12248498697 , delta1= -0.000255261696743\n",
      "490 , w0= -3.21844126182  delta0= 0.00245077463682 w1= 1.12498753273 , delta1= -0.000246206895376\n",
      "500 , w0= -3.24246827317  delta0= 0.00236383923752 w1= 1.12740130664 , delta1= -0.000237473291544\n",
      "510 , w0= -3.26564298346  delta0= 0.00227998766467 w1= 1.12972945766 , delta1= -0.000229049491529\n",
      "520 , w0= -3.28799562604  delta0= 0.00219911052687 w1= 1.13197502306 , delta1= -0.000220924505777\n",
      "530 , w0= -3.30955536181  delta0= 0.00212110231311 w1= 1.13414093238 , delta1= -0.000213087734564\n",
      "540 , w0= -3.33035031725  delta0= 0.00204586125513 w1= 1.13623001121 , delta1= -0.000205528954164\n",
      "550 , w0= -3.35040762111  delta0= 0.00197328919467 w1= 1.13824498494 , delta1= -0.000198238303514\n",
      "560 , w0= -3.36975343985  delta0= 0.00190329145539 w1= 1.14018848227 , delta1= -0.000191206271351\n",
      "570 , w0= -3.38841301169  delta0= 0.00183577671937 w1= 1.14206303866 , delta1= -0.000184423683797\n",
      "580 , w0= -3.40641067961  delta0= 0.00177065690797 w1= 1.14387109962 , delta1= -0.0001778816924\n",
      "590 , w0= -3.42376992309  delta0= 0.00170784706695 w1= 1.14561502392 , delta1= -0.000171571762582\n",
      "600 , w0= -3.44051338871  delta0= 0.0016472652556 w1= 1.14729708666 , delta1= -0.000165485662513\n",
      "610 , w0= -3.45666291972  delta0= 0.00158883243988 w1= 1.14891948222 , delta1= -0.000159615452363\n",
      "620 , w0= -3.47223958454  delta0= 0.00153247238926 w1= 1.15048432715 , delta1= -0.000153953473951\n",
      "630 , w0= -3.48726370424  delta0= 0.00147811157735 w1= 1.15199366294 , delta1= -0.000148492340753\n",
      "640 , w0= -3.50175487903  delta0= 0.0014256790859 w1= 1.15344945863 , delta1= -0.000143224928261\n",
      "650 , w0= -3.51573201388  delta0= 0.00137510651234 w1= 1.15485361344 , delta1= -0.000138144364695\n",
      "660 , w0= -3.52921334312  delta0= 0.0013263278805 w1= 1.15620795919 , delta1= -0.000133244022035\n",
      "670 , w0= -3.54221645429  delta0= 0.00127927955457 w1= 1.15751426275 , delta1= -0.00012851750737\n",
      "680 , w0= -3.55475831102  delta0= 0.00123390015607 w1= 1.1587742283 , delta1= -0.000123958654568\n",
      "690 , w0= -3.56685527523  delta0= 0.00119013048376 w1= 1.15998949956 , delta1= -0.000119561516223\n",
      "700 , w0= -3.57852312841  delta0= 0.00114791343643 w1= 1.16116166197 , delta1= -0.000115320355899\n",
      "710 , w0= -3.58977709226  delta0= 0.00110719393842 w1= 1.16229224471 , delta1= -0.000111229640646\n",
      "720 , w0= -3.60063184852  delta0= 0.00106791886772 w1= 1.16338272272 , delta1= -0.000107284033784\n",
      "730 , w0= -3.61110155812  delta0= 0.00103003698671 w1= 1.16443451861 , delta1= -0.000103478387939\n",
      "740 , w0= -3.62119987969  delta0= 0.000993498875291 w1= 1.16544900455 , delta1= -9.98077383251e-05\n",
      "750 , w0= -3.63093998733  delta0= 0.000958256866447 w1= 1.16642750401 , delta1= -9.6267296273e-05\n",
      "760 , w0= -3.64033458782  delta0= 0.000924264984019 w1= 1.16737129353 , delta1= -9.28524429793e-05\n",
      "770 , w0= -3.64939593721  delta0= 0.000891478882745 w1= 1.16828160436 , delta1= -8.95587234813e-05\n",
      "780 , w0= -3.65813585679  delta0= 0.000859855790408 w1= 1.16915962409 , delta1= -8.63818408461e-05\n",
      "790 , w0= -3.66656574852  delta0= 0.000829354452033 w1= 1.17000649815 , delta1= -8.33176505639e-05\n",
      "800 , w0= -3.67469660989  delta0= 0.000799935076068 w1= 1.17082333137 , delta1= -8.03621551419e-05\n",
      "810 , w0= -3.68253904831  delta0= 0.00077155928247 w1= 1.17161118937 , delta1= -7.75114988872e-05\n",
      "820 , w0= -3.69010329487  delta0= 0.000744190052637 w1= 1.17237109999 , delta1= -7.47619628821e-05\n",
      "830 , w0= -3.69739921779  delta0= 0.000717791681115 w1= 1.17310405458 , delta1= -7.21099601238e-05\n",
      "840 , w0= -3.70443633521  delta0= 0.000692329729016 w1= 1.17381100936 , delta1= -6.95520308546e-05\n",
      "850 , w0= -3.71122382762  delta0= 0.000667770979087 w1= 1.17449288659 , delta1= -6.70848380401e-05\n",
      "860 , w0= -3.71777054989  delta0= 0.000644083392381 w1= 1.17515057585 , delta1= -6.47051630204e-05\n",
      "870 , w0= -3.72408504277  delta0= 0.000621236066455 w1= 1.17578493516 , delta1= -6.24099013104e-05\n",
      "880 , w0= -3.73017554403  delta0= 0.000599199195058 w1= 1.17639679207 , delta1= -6.01960585482e-05\n",
      "890 , w0= -3.73604999925  delta0= 0.000577944029243 w1= 1.17698694482 , delta1= -5.80607465918e-05\n",
      "900 , w0= -3.74171607215  delta0= 0.000557442839864 w1= 1.1775561633 , delta1= -5.60011797459e-05\n",
      "910 , w0= -3.74718115459  delta0= 0.000537668881402 w1= 1.17810519011 , delta1= -5.40146711336e-05\n",
      "920 , w0= -3.75245237624  delta0= 0.000518596357069 w1= 1.1786347415 , delta1= -5.20986291882e-05\n",
      "930 , w0= -3.75753661384  delta0= 0.00050020038516 w1= 1.17914550831 , delta1= -5.02505542719e-05\n",
      "940 , w0= -3.76244050021  delta0= 0.000482456966585 w1= 1.17963815689 , delta1= -4.84680354165e-05\n",
      "950 , w0= -3.76717043287  delta0= 0.000465342953569 w1= 1.18011332993 , delta1= -4.67487471763e-05\n",
      "960 , w0= -3.77173258243  delta0= 0.000448836019447 w1= 1.18057164734 , delta1= -4.50904465963e-05\n",
      "970 , w0= -3.77613290059  delta0= 0.000432914629539 w1= 1.18101370703 , delta1= -4.34909702833e-05\n",
      "980 , w0= -3.78037712793  delta0= 0.000417558013057 w1= 1.1814400857 , delta1= -4.19482315877e-05\n",
      "990 , w0= -3.7844708014  delta0= 0.000402746136008 w1= 1.1818513396 , delta1= -4.04602178764e-05\n",
      "1000 , w0= -3.78841926155  delta0= 0.000388459675057 w1= 1.18224800525 , delta1= -3.90249879108e-05\n",
      "\n",
      "Convergence after 1001 iterations: w0=-3.78880632075, w1=1.18228688955\n",
      "[64.145467754911309, 33.539284743334967, 20.815159503537952, 15.518366960604688, 13.306575069293505, 12.376211646075983, 11.978169038728408, 11.801307545851575, 11.716395840326452, 11.669757570402812, 11.639097868446486, 11.615156054554557, 11.594085154771332, 11.574286762109514, 11.555096407741406, 11.536237534751152, 11.517594708120662, 11.499119418305687, 11.480790957069811, 11.462600167377456, 11.444542693942983, 11.42661617984241, 11.408819102107843, 11.391150288067548, 11.373608714431436, 11.356193423813901, 11.338903490034207, 11.321738003676488, 11.304696066064787, 11.287776786733449, 11.270979282349435, 11.254302676237959, 11.237746098158807, 11.221308684187077, 11.204989576637422, 11.188787924006499, 11.172702880923314, 11.156733608102842, 11.140879272301376, 11.125139046272659, 11.109512108724548, 11.093997644276088, 11.07859484341496, 11.06330290245525, 11.048121023495463, 11.033048414376909, 11.018084288642372, 11.003227865495084, 10.988478369757953, 10.973835031833168, 10.959297087661968, 10.944863778684846, 10.930534351801937, 10.91630805933373, 10.902184158982013, 10.888161913791256, 10.874240592110004, 10.860419467552845, 10.846697818962395, 10.833074930371726, 10.819550090967038, 10.806122595050484, 10.792791742003423, 10.779556836249835, 10.766417187220013, 10.75337210931457, 10.740420921868616, 10.72756294911631, 10.714797520155512, 10.702123968912847, 10.68954163410892, 10.677049859223835, 10.664647992462909, 10.652335386722672, 10.640111399557114, 10.627975393144162, 10.615926734252383, 10.603964794207961, 10.592088948861907, 10.58029857855743, 10.568593068097693, 10.55697180671363, 10.545434188032145, 10.533979610044431, 10.522607475074571, 10.51131718974835, 10.500108164962297, 10.488979815852952, 10.477931561766338, 10.466962826227665, 10.456073036911263, 10.445261625610708, 10.434528028209177, 10.423871684650001, 10.413292038907477, 10.402788538957822, 10.392360636750373, 10.382007788179024, 10.371729453053767, 10.361525095072603, 10.351394181793477, 10.341336184606524, 10.331350578706477, 10.321436843065326, 10.311594460405088, 10.301822917170819, 10.292121703503829, 10.28249031321509, 10.272928243758805, 10.2634349962062, 10.25401007521946, 10.244652989025946, 10.235363249392455, 10.226140371599824, 10.216983874417565, 10.207893280078835, 10.198868114255415, 10.189907906033053, 10.181012187886813, 10.172180495656741, 10.163412368523602, 10.154707348984878, 10.146064982830847, 10.137484819120935, 10.128966410160134, 10.120509311475709, 10.112113081793918, 10.103777283017067, 10.095501480200628, 10.087285241530513, 10.079128138300563, 10.071029744890224, 10.062989638742247, 10.055007400340722, 10.047082613189154, 10.039214863788711, 10.031403741616701, 10.023648839105107, 10.015949751619337, 10.008306077437108, 10.000717417727509, 9.9931833765301352, 9.9857035607344837, 9.9782775800594106, 9.9709050470327849, 9.9635855769712496, 9.9563187879601696, 9.9491043008337154, 9.9419417391550144, 9.9348307291965892, 9.9277708999208301, 9.9207618829605924, 9.9138033126000522, 9.9068948257555647, 9.9000360619567225, 9.8932266633276011, 9.8864662745680079, 9.8797545429350055, 9.8730911182244743, 9.8664756527528681, 9.8599078013390162, 9.8533872212861837, 9.8469135723641443, 9.8404865167914402, 9.8341057192177548, 9.8277708467064144, 9.8214815687170365, 9.8152375570882384, 9.809038486020567, 9.8028840320594455, 9.7967738740783687, 9.7907076932620516, 9.7846851730898852, 9.778705999319353, 9.7727698599696797, 9.7668764453055417, 9.7610254478208791, 9.7552165622228859, 9.7494494854160649, 9.7437239164864167, 9.7380395566857256, 9.7323961094159959, 9.726793280213947, 9.7212307767356734, 9.7157083087413838, 9.7102255880802595, 9.7047823286753871, 9.6993782465088909, 9.6940130596070713, 9.688686488025688, 9.6833982538353887, 9.6781480811071727, 9.6729356958980031, 9.6677608262365418, 9.6626232021088985, 9.6575225554445936, 9.6524586201025713, 9.6474311318572585, 9.6424398283848589, 9.6374844492495804, 9.6325647358901154, 9.6276804316061142, 9.6228312815447801, 9.6180170326876322, 9.6132374338372113, 9.6084922356040714, 9.6037811903936792, 9.5991040523935567, 9.5944605775604348, 9.5898505236074989, 9.5852736499917803, 9.580729717901594, 9.5762184902440683, 9.571739731632773, 9.5672932083754674, 9.5628786884618595, 9.5584959415515378, 9.5541447389619343, 9.5498248536563999, 9.5455360602323669, 9.5412781349095628, 9.5370508555183378, 9.5328540014881167, 9.5286873538358225, 9.5245506951545078, 9.5204438096019626, 9.5163664828894987, 9.5123185022707322, 9.5082996565305198, 9.5043097359738766, 9.5003485324151065, 9.496415839166886, 9.492511451029527, 9.4886351642801969, 9.484786776662391, 9.4809660873752684, 9.4771728970632783, 9.4734070078056618, 9.4696682231062148, 9.4659563478829689, 9.4622711884580326, 9.458612552547498, 9.4549802492514115, 9.4513740890437621, 9.4477938837626709, 9.4442394466005162, 9.4407105920941934, 9.4372071361154699, 9.4337288958613232, 9.4302756898444624, 9.4268473378838298, 9.4234436610951828, 9.4200644818817842, 9.4167096239251418, 9.4133789121757871, 9.4100721728441368, 9.4067892333914482, 9.4035299225208284, 9.4002940701682345, 9.3970815074936702, 9.3938920668723291, 9.3907255818858815, 9.3875818873137593, 9.3844608191245573, 9.3813622144674635, 9.3782859116637685, 9.3752317501984397, 9.3721995707116967, 9.3691892149907883, 9.3662005259616272, 9.363233347680687, 9.3602875253267896, 9.3573629051931189, 9.3544593346790883, 9.3515766622824721, 9.348714737591461, 9.3458734112768038, 9.3430525350840448, 9.3402519618257518, 9.3374715453738784, 9.3347111406521179, 9.3319706036283208, 9.3292497913070029, 9.3265485617218538, 9.323866773928378, 9.3212042879964958, 9.3185609650032664, 9.3159366670256158, 9.3133312571331732, 9.3107445993810973, 9.3081765588029963, 9.3056270014038951, 9.3030957941532026, 9.3005828049778341, 9.2980879027552739, 9.2956109573067423, 9.2931518393903954, 9.2907104206946141, 9.2882865738312752, 9.2858801723291311, 9.2834910906271677, 9.2811192040681139, 9.2787643888918865, 9.2764265222291495, 9.2741054820949191, 9.2718011473821722, 9.2695133978555457, 9.2672421141450556, 9.2649871777398722, 9.2627484709821335, 9.2605258770607879, 9.2583192800055478, 9.2561285646807985, 9.2539536167795902, 9.2517943228176858, 9.2496505701276543, 9.247522246852963, 9.2454092419421467, 9.243311445143048, 9.2412287469969971, 9.2391610388331724, 9.2371082127628874, 9.2350701616739723, 9.2330467792251838, 9.2310379598406627, 9.2290435987044113, 9.2270635917548294, 9.2250978356793194, 9.2231462279088241, 9.2212086666125312, 9.2192850506925517, 9.217375279778631, 9.2154792542229149, 9.213596875094769, 9.2117280441755653, 9.2098726639536395, 9.208030637619105, 9.2062018690589227, 9.2043862628517292, 9.2025837242630235, 9.200794159240095, 9.1990174744071975, 9.197253577060625, 9.1955023751639029, 9.193763777342987, 9.1920376928814687, 9.1903240317158836, 9.1886227044309763, 9.1869336222550331, 9.1852566970552978, 9.1835918413333104, 9.1819389682203951, 9.1802979914730702, 9.1786688254686197, 9.1770513852005582, 9.1754455862742486, 9.1738513449024506, 9.1722685779009918, 9.1706972026843889, 9.169137137261588, 9.1675883002316301, 9.1660506107794433, 9.1645239886716006, 9.1630083542521596, 9.161503628438485, 9.1600097327171337, 9.1585265891397469, 9.1570541203190032, 9.1555922494245578, 9.1541409001790441, 9.1526999968540856, 9.1512694642663863, 9.1498492277737178, 9.1484392132711356, 9.1470393471870182, 9.1456495564792828, 9.1442697686315704, 9.1428999116494225, 9.1415399140565707, 9.1401897048911902, 9.1388492137021906, 9.1375183705455445, 9.1361971059806528, 9.1348853510666608, 9.1335830373589779, 9.132290096905578, 9.1310064622435405, 9.1297320663954888, 9.1284668428661249, 9.1272107256387205, 9.1259636491717053, 9.1247255483952472, 9.1234963587078362, 9.1222760159729219, 9.1210644565155743, 9.1198616171191578, 9.1186674350220258, 9.1174818479142488, 9.1163047939343826, 9.1151362116662185, 9.1139760401355598, 9.1128242188070967, 9.1116806875811918, 9.1105453867907915, 9.1094182571982678, 9.1082992399923519, 9.107188276785072, 9.1060853096086927, 9.1049902809126912, 9.1039031335607632, 9.1028238108278376, 9.1017522563971092, 9.1006884143570996, 9.0996322291987752, 9.0985836458125817, 9.0975426094856555, 9.0965090658988839, 9.0954829611241355, 9.094464241621397, 9.0934528542360216, 9.0924487461959291, 9.0914518651088638, 9.0904621589596601, 9.089479576107518, 9.0885040652833222, 9.0875355755869549, 9.086574056484654, 9.0856194578063558, 9.0846717297431088, 9.0837308228444442, 9.0827966880157955, 9.0818692765159774, 9.0809485399545888, 9.0800344302895279, 9.0791268998244643, 9.0782259012063484, 9.0773313874229604, 9.0764433118004604, 9.0755616280008908, 9.0746862900198533, 9.073817252184039, 9.0729544691488702, 9.0720978958961336, 9.071247487731636, 9.0704032002828452, 9.0695649894966301, 9.0687328116368722, 9.0679066232823029, 9.0670863813241258, 9.0662720429638401, 9.0654635657109548, 9.0646609073808442, 9.0638640260924621, 9.0630728802662137, 9.0622874286217634, 9.0615076301758837, 9.0607334442403253, 9.0599648304196876, 9.0592017486093166, 9.058444158993181, 9.0576920220418522, 9.0569452985103975, 9.0562039494363429, 9.0554679361376458, 9.0547372202106686, 9.0540117635281874, 9.0532915282373878, 9.0525764767579027, 9.0518665717798363, 9.0511617762618251, 9.0504620534291309, 9.0497673667716736, 9.0490776800421511, 9.0483929572541584, 9.0477131626802887, 9.0470382608502806, 9.0463682165491797, 9.0457029948154677, 9.0450425609392688, 9.0443868804605234, 9.0437359191671973, 9.0430896430934897, 9.0424480185180691, 9.0418110119623076, 9.0411785901885295, 9.0405507201983006, 9.0399273692306732, 9.0393085047604984, 9.0386940944967193, 9.0380841063806994, 9.0374785085845328, 9.0368772695093913, 9.0362803577838715, 9.0356877422623771, 9.0350993920234739, 9.0345152763682712, 9.0339353648188325, 9.0333596271165995, 9.0327880332207648, 9.0322205533067681, 9.0316571577646894, 9.0310978171977343, 9.0305425024206674, 9.0299911844583409, 9.0294438345441286, 9.0289004241184632, 9.0283609248273198, 9.0278253085207556, 9.0272935472514302, 9.0267656132731684, 9.026241479039447, 9.0257211172020675, 9.0252045006096253, 9.0246916023061523, 9.0241823955296887, 9.0236768537108798, 9.0231749504716241, 9.0226766596236523, 9.0221819551672038, 9.0216908112896057, 9.0212032023640276, 9.0207191029480391, 9.020238487782354, 9.0197613317894803, 9.0192876100724089, 9.0188172979133352, 9.0183503707723496, 9.0178868042861691, 9.0174265742668869, 9.0169696567006312, 9.0165160277464178, 9.0160656637348406, 9.0156185411668339, 9.015174636712489, 9.0147339272097824, 9.0142963896634427, 9.0138620012436537, 9.0134307392849404, 9.0130025812849581, 9.0125775049033301, 9.0121554879604364, 9.0117365084363321, 9.0113205444695428, 9.0109075743559259, 9.0104975765475714, 9.0100905296516558, 9.0096864124293301, 9.0092852037945867, 9.0088868828132007, 9.0084914287016264, 9.0080988208258912, 9.0077090387005292, 9.0073220619875407, 9.0069378704952783, 9.0065564441774359, 9.006177763131987, 9.005801807600152, 9.0054285579653452, 9.005057994752196, 9.0046900986254812, 9.0043248503891515, 9.0039622309853229, 9.0036022214932654, 9.0032448031284495, 9.0028899572415231, 9.0025376653173712, 9.0021879089741397, 9.0018406699622791, 9.0014959301635624, 9.0011536715902203, 9.0008138763838978, 9.0004765268147917, 9.0001416052807137, 8.9998090943061513, 8.9994789765413916, 8.9991512347615483, 8.9988258518657904, 8.998502810876273, 8.9981820949374143, 8.9978636873149327, 8.9975475713949731, 8.9972337306832664, 8.9969221488042734, 8.9966128095002897, 8.9963056966306496, 8.996000794170838, 8.9956980862116929, 8.9953975569585243, 8.9950991907303628, 8.9948029719590821, 8.994508885188603, 8.9942169150740909, 8.9939270463811543, 8.9936392639850613, 8.9933535528699231, 8.9930698981279225, 8.9927882849585643, 8.992508698667848, 8.992231124667553, 8.9919555484744542, 8.9916819557095415, 8.9914103320973489, 8.9911406634650994, 8.9908729357420523, 8.99060713495874, 8.9903432472462423, 8.9900812588354349, 8.9898211560563084, 8.9895629253372515, 8.9893065532043259, 8.9890520262805751, 8.9887993312853069, 8.9885484550334329, 8.9882993844347503, 8.9880521064932779, 8.9878066083065686, 8.987562877065038, 8.9873209000513068, 8.9870806646395156, 8.9868421582946851, 8.9866053685720555, 8.9863702831164307, 8.986136889661541, 8.9859051760294122, 8.9856751301297013, 8.9854467399591034, 8.9852199936006905, 8.9849948792233292, 8.9847713850809878, 8.9845494995122497, 8.9843292109395581, 8.9841105078687349, 8.9838933788883057, 8.9836778126689385, 8.9834637979628216, 8.9832513236031311, 8.9830403785034036, 8.9828309516569593, 8.9826230321363365, 8.9824166090927324, 8.9822116717554312, 8.9820082094312355, 8.9818062115038817, 8.981605667433568, 8.9814065667563092, 8.9812088990834624, 8.9810126541011286, 8.9808178215696532, 8.9806243913230936, 8.9804323532686645, 8.9802416973862105, 8.9800524137277051, 8.9798644924167412, 8.9796779236479658, 8.9794926976866094, 8.9793088048679746, 8.9791262355969135, 8.9789449803473431, 8.9787650296617425, 8.9785863741506731, 8.9784090044922564, 8.9782329114317161, 8.9780580857808765, 8.9778845184177118, 8.9777122002858381, 8.9775411223940473, 8.9773712758158624, 8.9772026516890424, 8.9770352412151269, 8.9768690356589982, 8.9767040263483793, 8.9765402046734568, 8.9763775620863395, 8.9762160901006798, 8.9760557802912135, 8.9758966242933038, 8.9757386138025268, 8.9755817405742206, 8.9754259964230805, 8.9752713732226859, 8.9751178629051402, 8.9749654574605717, 8.9748141489368045, 8.9746639294388739, 8.9745147911286338, 8.9743667262243552, 8.9742197270003352, 8.974073785786457, 8.9739288949678073, 8.9737850469842826, 8.9736422343302085, 8.9735004495539261, 8.9733596852573694, 8.9732199340957894, 8.9730811887772379, 8.972943442062288, 8.9728066867635903, 8.9726709157455584, 8.972536121923925, 8.972402298265445, 8.9722694377874745, 8.9721375335576354, 8.9720065786934349, 8.9718765663619209, 8.9717474897793288, 8.97161934221071, 8.9714921169695963, 8.9713658074176301, 8.9712404069642453, 8.9711159090663202, 8.9709923072278048, 8.970869594999419, 8.9707477659782882, 8.9706268138076339, 8.9705067321764247, 8.9703875148190555, 8.970269155515016, 8.9701516480885495, 8.9700349864083826, 8.9699191643873419, 8.9698041759820804, 8.969690015192743, 8.9695766760626565, 8.9694641526780305, 8.9693524391676185, 8.9692415297024422, 8.9691314184954951, 8.9690220998013874, 8.9689135679161165, 8.968805817176694, 8.9686988419609239, 8.9685926366870561, 8.9684871958135322, 8.9683825138386659, 8.968278585300359, 8.9681754047758524, 8.9680729668813939, 8.9679712662719844, 8.9678702976411131, 8.9677700557204432, 8.9676705352795452, 8.9675717311256768, 8.9674736381034155, 8.9673762510944979, 8.9672795650174564, 8.9671835748274233, 8.9670882755158274, 8.9669936621101556, 8.9668997296736705, 8.9668064733051782, 8.9667138881387576, 8.9666219693435032, 8.9665307121232871, 8.9664401117164978, 8.9663501633957985, 8.9662608624678768, 8.9661722042731853, 8.9660841841857408, 8.9659967976128225, 8.9659100399947924, 8.9658239068048182, 8.9657383935486514, 8.9656534957643856, 8.9655692090222274, 8.9654855289242832, 8.9654024511042909, 8.9653199712274372, 8.965238084990073, 8.9651567881195557, 8.9650760763739967, 8.9649959455420056, 8.9649163914425429, 8.9648374099246215, 8.9647589968671717, 8.9646811481787516, 8.9646038597973785, 8.9645271276903156, 8.9644509478538321, 8.9643753163130206, 8.9643002291216032, 8.9642256823616755, 8.9641516721435419, 8.9640781946055093, 8.9640052459136772, 8.9639328222617198, 8.9638609198707346, 8.9637895349890027, 8.9637186638918092, 8.9636483028812641, 8.9635784482860448, 8.9635090964613156, 8.9634402437884226, 8.9633718866747856, 8.9633040215536717, 8.9632366448840237, 8.9631697531502663, 8.9631033428621265, 8.9630374105544668, 8.9629719527870577, 8.9629069661444589, 8.9628424472358112, 8.9627783926946396, 8.9627147991787197, 8.9626516633698774, 8.9625889819738109, 8.962526751719933, 8.9624649693612159, 8.9624036316739701, 8.9623427354577228, 8.9622822775350492, 8.9622222547513761, 8.9621626639748371, 8.9621035020961042, 8.962044766028253, 8.9619864527065438, 8.9619285590883049, 8.9618710821527827, 8.9618140189009452, 8.96175736635535, 8.9617011215599813, 8.9616452815801164, 8.9615898435021304, 8.9615348044333878, 8.9614801615020561, 8.9614259118569866, 8.9613720526675493, 8.9613185811234839, 8.9612654944347501, 8.9612127898314036, 8.961160464563422, 8.9611085159005821, 8.9610569411323233, 8.9610057375675662, 8.9609549025346222, 8.9609044333810246, 8.9608543274734132, 8.9608045821973459, 8.9607551949572226, 8.9607061631761287, 8.9606574842956839, 8.9606091557759289, 8.9605611750951724, 8.9605135397498881, 8.9604662472545726, 8.9604192951415857, 8.9603726809610791, 8.960326402280824, 8.9602804566860765, 8.9602348417795117, 8.9601895551810333, 8.9601445945276765, 8.9600999574734868, 8.9600556416894097, 8.9600116448631244, 8.9599679646989703, 8.9599245989178193, 8.9598815452569305, 8.9598388014698536, 8.9597963653263033, 8.9597542346120562, 8.9597124071288121, 8.9596708806941052, 8.9596296531411763, 8.9595887223188502, 8.959548086091452, 8.9595077423386584, 8.9594676889554279, 8.9594279238518482, 8.9593884449530652, 8.9593492501991481, 8.9593103375449967, 8.9592717049602406, 8.9592333504290984, 8.9591952719503194, 8.9591574675370413, 8.959119935216723, 8.9590826730309914, 8.9590456790355901, 8.9590089513002464, 8.9589724879085875, 8.9589362869580267, 8.9589003465596804, 8.9588646648382486, 8.9588292399319354, 8.9587940699923418, 8.9587591531843742, 8.9587244876861529, 8.958690071688892, 8.9586559033968438, 8.9586219810271714, 8.9585883028099005, 8.9585548669877433, 8.958521671816106, 8.9584887155629289, 8.9584559965086203, 8.9584235129459699, 8.9583912631800526, 8.9583592455281433, 8.9583274583196406, 8.9582958998959334, 8.958264568610387, 8.9582334628281881, 8.9582025809263044, 8.9581719212933901, 8.9581414823296814, 8.9581112624469377, 8.9580812600683597, 8.9580514736284744, 8.9580219015730886, 8.9579925423592019, 8.9579633944549002, 8.9579344563393164, 8.9579057265025082, 8.9578772034454399, 8.9578488856798071, 8.9578207717280662, 8.9577928601232806, 8.9577651494090844, 8.9577376381395926, 8.9577103248793222, 8.9576832082031288, 8.9576562866961194, 8.9576295589535722, 8.9576030235809156, 8.9575766791935738, 8.957550524416952, 8.9575245578863427, 8.9574987782468849, 8.9574731841534305, 8.9574477742705536, 8.9574225472723938, 8.9573975018426868, 8.9573726366746023, 8.9573479504707247, 8.957323441942977, 8.9572991098125598, 8.957274952809879, 8.957250969674476, 8.9572271591549519, 8.9572035200089051, 8.9571800510029291, 8.9571567509124463, 8.9571336185217039, 8.9571106526236992, 8.9570878520201358, 8.9570652155213022, 8.9570427419460881, 8.9570204301218723, 8.9569982788844662, 8.9569762870780547, 8.9569544535551664, 8.9569327771765668, 8.9569112568112281, 8.9568898913362638, 8.9568686796368642, 8.9568476206062488, 8.9568267131456167, 8.956805956164029, 8.9567853485784568, 8.9567648893136251, 8.9567445773020165, 8.9567244114838029, 8.9567043908067507, 8.9566845142262448, 8.9566647807051609, 8.9566451892138392, 8.9566257387300467, 8.9566064282388886, 8.956587256732778, 8.9565682232113986, 8.9565493266816247, 8.9565305661574612, 8.9565119406600306, 8.9564934492174899, 8.9564750908650002, 8.9564568646446592, 8.9564387696054517, 8.956420804803237, 8.9564029693006244, 8.956385262167009, 8.9563676824784686, 8.9563502293177244, 8.9563329017741218, 8.9563156989435289, 8.9562986199283525, 8.956281663837439, 8.9562648297860488, 8.9562481168958232, 8.9562315242947275, 8.9562150511169776, 8.9561986965030389, 8.9561824595995745, 8.9561663395593687, 8.9561503355413112, 8.956134446710351, 8.9561186722374302, 8.9561030112994899, 8.9560874630793474, 8.9560720267657565, 8.9560567015532762, 8.9560414866422526]\n"
     ]
    }
   ],
   "source": [
    "# main algorithm loop starts here\n",
    "iters = 0\n",
    "maxiters = 10\n",
    "while True:\n",
    "    # Note: need to implement dLdw1 and dLdw0 (above)\n",
    "    delta1 = alpha * dLdw1()\n",
    "    delta0 = alpha * dLdw0()\n",
    "\n",
    "    # Store data for plotting convergence of parameters\n",
    "    tplot[iters] = iters\n",
    "    w0plot[iters] = w0\n",
    "    w1plot[iters] = w1\n",
    "    cplot[iters] = cost()\n",
    " \n",
    "    iters+=1\n",
    "    w1 = w1 - delta1\n",
    "    w0 = w0 - delta0\n",
    " \n",
    "    # display progress\n",
    "    if iters % dispiter == 0:\n",
    "        print(str(iters), \", w0=\", str(w0), \" delta0=\", str(delta0), \"w1=\", str(w1), \", delta1=\", str(delta1))\n",
    "\n",
    "    if abs(delta1) <= tol or abs(delta0) <= tol or iters > maxiter:\n",
    "        break\n",
    "\n",
    "print(\"\\nConvergence after \" + str(iters) + \" iterations: w0=\" + str(w0) + \", w1=\" + str(w1));\n",
    "\n",
    "print(cplot)"
   ]
  },
  {
   "cell_type": "markdown",
   "metadata": {},
   "source": [
    "#### Generate scatter plot with linear regression fit line"
   ]
  },
  {
   "cell_type": "code",
   "execution_count": 217,
   "metadata": {
    "collapsed": false
   },
   "outputs": [
    {
     "data": {
      "text/plain": [
       "[<matplotlib.lines.Line2D at 0x11b0d24a8>]"
      ]
     },
     "execution_count": 217,
     "metadata": {},
     "output_type": "execute_result"
    },
    {
     "data": {
      "image/png": "[encoded data removed]",
      "text/plain": [
       "<matplotlib.figure.Figure at 0x11ae8db70>"
      ]
     },
     "metadata": {},
     "output_type": "display_data"
    }
   ],
   "source": [
    "# Adding labels\n",
    "# Create a Figure object.\n",
    "fig = plt.figure(figsize=(8, 6))\n",
    "# Create an Axes object.\n",
    "ax = fig.add_subplot(1,1,1) # one row, one column, first plot\n",
    "# Plot the data.\n",
    "ax.scatter(X, Y, color=\"blue\")\n",
    "# Add a title.\n",
    "ax.set_title(\"Data set with linear regression fit\")\n",
    "# Add axis labels.\n",
    "ax.set_xlabel(\"X\")\n",
    "ax.set_ylabel(\"Y\")\n",
    "# Produce an image.\n",
    "#fig.savefig(\"scatterplot.png\")\n",
    "ax.plot(X, w0+w1*X, color=\"red\")"
   ]
  },
  {
   "cell_type": "markdown",
   "metadata": {},
   "source": [
    "#### Plot convergence of data"
   ]
  },
  {
   "cell_type": "code",
   "execution_count": 218,
   "metadata": {
    "collapsed": false
   },
   "outputs": [
    {
     "data": {
      "text/plain": [
       "<matplotlib.legend.Legend at 0x11b1fac50>"
      ]
     },
     "execution_count": 218,
     "metadata": {},
     "output_type": "execute_result"
    },
    {
     "data": {
      "image/png": "[encoded data removed]",
      "text/plain": [
       "<matplotlib.figure.Figure at 0x11ac8a400>"
      ]
     },
     "metadata": {},
     "output_type": "display_data"
    }
   ],
   "source": [
    "# Adding labels\n",
    "# Create a Figure object.\n",
    "fig = plt.figure(figsize=(8, 6))\n",
    "# Create an Axes object.\n",
    "ax = fig.add_subplot(1,1,1) # one row, one column, first plot\n",
    "# Plot the data.    \n",
    "ax.plot(tplot, w0plot, color=\"blue\", label=\"w0\")\n",
    "ax.plot(tplot, w1plot, color=\"red\", label=\"w1\")\n",
    "# Add a title.\n",
    "ax.set_title(\"Convergence of w0 and w1\")\n",
    "# Add axis labels.\n",
    "ax.set_xlabel(\"Iterations\")\n",
    "ax.set_ylabel(\"Parameters\")\n",
    "ax.legend(loc='right')"
   ]
  },
  {
   "cell_type": "markdown",
   "metadata": {},
   "source": [
    "#### Plot convergence of cost function"
   ]
  },
  {
   "cell_type": "code",
   "execution_count": 219,
   "metadata": {
    "collapsed": false
   },
   "outputs": [
    {
     "data": {
      "text/plain": [
       "<matplotlib.legend.Legend at 0x11b271208>"
      ]
     },
     "execution_count": 219,
     "metadata": {},
     "output_type": "execute_result"
    },
    {
     "data": {
      "image/png": "[encoded data removed]",
      "text/plain": [
       "<matplotlib.figure.Figure at 0x11ae8d358>"
      ]
     },
     "metadata": {},
     "output_type": "display_data"
    }
   ],
   "source": [
    "# Adding labels\n",
    "# Create a Figure object.\n",
    "fig = plt.figure(figsize=(8, 6))\n",
    "# Create an Axes object.\n",
    "ax = fig.add_subplot(1,1,1) # one row, one column, first plot\n",
    "# Plot the data.    \n",
    "ax.plot(tplot, cplot, color=\"blue\", label=\"Cost\")\n",
    "# Add a title.\n",
    "ax.set_title(\"Cost function trend\")\n",
    "# Add axis labels.\n",
    "ax.set_xlabel(\"Iterations\")\n",
    "ax.set_ylabel(\"Cost\")\n",
    "ax.legend(loc='right')"
   ]
  },
  {
   "cell_type": "markdown",
   "metadata": {},
   "source": [
    "Notice how the parameters and the cost function converge at different rates. We could also try terminating our gradient descent algorithm based on the cost function."
   ]
  },
  {
   "cell_type": "code",
   "execution_count": null,
   "metadata": {
    "collapsed": true
   },
   "outputs": [],
   "source": []
  }
 ],
 "metadata": {
  "celltoolbar": "Raw Cell Format",
  "kernelspec": {
   "display_name": "pgmpy35x1",
   "language": "python",
   "name": "pgmpy35x1"
  },
  "language_info": {
   "codemirror_mode": {
    "name": "ipython",
    "version": 3
   },
   "file_extension": ".py",
   "mimetype": "text/x-python",
   "name": "python",
   "nbconvert_exporter": "python",
   "pygments_lexer": "ipython3",
   "version": "3.5.2"
  }
 },
 "nbformat": 4,
 "nbformat_minor": 0
}
